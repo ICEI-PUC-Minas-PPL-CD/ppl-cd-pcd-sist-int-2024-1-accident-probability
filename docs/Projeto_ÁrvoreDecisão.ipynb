{
  "nbformat": 4,
  "nbformat_minor": 0,
  "metadata": {
    "colab": {
      "provenance": []
    },
    "kernelspec": {
      "name": "python3",
      "display_name": "Python 3"
    },
    "language_info": {
      "name": "python"
    }
  },
  "cells": [
    {
      "cell_type": "markdown",
      "source": [
        "`DESCRIÇÃO DOS ATRIBUTOS:`\n",
        "            \n",
        "1. Day_of_Week {'Thursday', 'Monday', 'Sunday', 'Tuesday', 'Friday', 'Wednesday','Saturday'}  \n",
        "\n",
        "2. Junction_Detail {'T or staggered junction', 'Crossroads','Not at junction or within 20 metres', 'Roundabout','Mini-roundabout', 'More than 4 arms (not roundabout)','Private drive or entrance', 'Slip road', 'Other junction'}           \n",
        "\n",
        "3. Accident_Injuries {'Serious', 'Slight', 'Fatal'}    \n",
        "\n",
        "4. Light_Conditions {'Day', 'Darkness - lights lit', 'Darkness - lighting unknown', 'Darkness - lights unlit', 'Darkness - no lighting'}       \n",
        "\n",
        "5. Number_of_Casualties {1, 11,  3,  2,  4,  5,  6, 10,  8,  7,  9, 13, 12, 14, 16, 18, 15, 19, 21, 17, 27, 48, 40, 24, 26, 22, 42, 43}      \n",
        "\n",
        "6. Number_of_Vehicles {2,  1,  3,  4,  5,  9,  6,  8,  7, 10, 16, 13, 14, 11, 12, 32, 19}   \n",
        "\n",
        "7. Road_Surface_Conditions {'Dry', 'Wet or damp', 'Frost or ice', 'Snow','Flood over 3cm. deep'}\n",
        "\n",
        "8. Road_Type {'One way street', 'Single carriageway', 'Dual carriageway','Roundabout', 'Slip road'}         \n",
        "\n",
        "9. Speed_limit {30, 20, 50, 40, 70, 60, 10, 15}     \n",
        "\n",
        "10. Hour_of_Accident {3-6, 6-9, 9-12, 12-15, 15-18, 18-21, 21-24}\n",
        "\n",
        "11. Urban_or_Rural_Area {'Urban', 'Rural'}   \n",
        "\n",
        "12. Weather_Conditions {'Fine no high winds', 'Other', 'Raining no high winds','Snowing no high winds', 'Fine + high winds', 'Raining + high winds', 'Snowing + high winds', 'Fog or mist'}   \n",
        "\n",
        "13. Vehicle_Type {'Car', 'Taxi', 'Motorcycle', 'Van', 'Other', 'Bus', 'Pedal cycle','Ridden horse'}"
      ],
      "metadata": {
        "id": "7OXVT6BUAU49"
      }
    },
    {
      "metadata": {
        "id": "OwXOcJUaTV-I"
      },
      "cell_type": "code",
      "source": [
        "!pip install pydotplus\n",
        "!pip install dtreeviz"
      ],
      "execution_count": null,
      "outputs": []
    },
    {
      "cell_type": "code",
      "execution_count": null,
      "metadata": {
        "id": "zi0OcTkq1mf6"
      },
      "outputs": [],
      "source": [
        "import pandas as pd\n",
        "import numpy as np\n",
        "\n",
        "from sklearn import datasets, tree\n",
        "from sklearn.model_selection import train_test_split\n",
        "\n",
        "from sklearn.tree import DecisionTreeClassifier\n",
        "from sklearn.metrics import accuracy_score, classification_report, confusion_matrix\n",
        "\n",
        "from sklearn.feature_extraction import DictVectorizer # converte dicionários Python em matrizes NumPy ou em matrizes esparsas  # 1?\n",
        "from sklearn.preprocessing import LabelEncoder        # converte rótulos de classes categóricas em números                     # 2?"
      ]
    },
    {
      "cell_type": "code",
      "source": [
        "dados = pd.read_csv(\"/content/car_accidentOFICIAL.csv\") # 3? como eu pego o resultado do que eu fiz no collab?\n",
        "\n",
        "from google.colab import files   # 4? assim?\n",
        "uploaded = files.upload()"
      ],
      "metadata": {
        "id": "8pG-tDMN27Sq"
      },
      "execution_count": null,
      "outputs": []
    },
    {
      "metadata": {
        "id": "JQBgbKTVIDrb"
      },
      "cell_type": "markdown",
      "source": [
        "### Transformação de dados               `# 5? não sei se é necessário`\n",
        "\n",
        "Inicialmente os atributos são convertidos para o formato de dicionário.\n",
        "Em seguida os atributos são transformados em binário, para cada par (key, value) do dicionário.\n",
        "\n",
        "<code>DictVectorizer(dtype=class ‘numpy.float64’, separator=’=’, sparse=True, sort=True)</code>\n",
        "\n",
        "A classe é convertida para labels únicos sequenciais.\n",
        "\n",
        "<code>\n",
        " le = preprocessing.LabelEncoder()\n",
        "  \n",
        " le.fit(dados)\n",
        "</code>\n"
      ]
    },
    {
      "metadata": {
        "id": "A46kV4VTA_la"
      },
      "cell_type": "markdown",
      "source": [
        "### Carga dos dados e particionamento das bases de treinamento e teste\n",
        "\n",
        "`train_test_split(X, y) -- PARTICIONA A BASE DE DADOS EM BASES DE TREINAMENTO E TESTE.`\n",
        "\n",
        "Por padrão, 75% da base é utilizada para treinamento e 25% para testes.\n",
        "\n",
        "No código a seguir, usaremos `#6?`...% para teste e `#7?`...% para treinamento:\n",
        "\n"
      ]
    },
    {
      "metadata": {
        "id": "pQzY_XVp__pZ"
      },
      "cell_type": "code",
      "source": [
        "# Divide os dados em conjunto de recursos (X) e conjunto de rótulos (y)\n",
        "X, y = iris.data, iris.target\n",
        "class_names = iris.target_names\n",
        "\n",
        "# Divide os dados em conjunto de treinamento e conjunto de teste\n",
        "X_train, X_test, y_train, y_test = train_test_split(X, y, random_state=0, test_size=0.15)"
      ],
      "execution_count": null,
      "outputs": []
    },
    {
      "metadata": {
        "id": "kg3Fr_1XAoKi"
      },
      "cell_type": "markdown",
      "source": [
        "### Indução do Modelo\n",
        "\n",
        "\n",
        "Os três passos para indução de um modelo são:\n",
        "\n",
        "1.   Instanciar o modelo: ``` DecisionTreeClassifier()```\n",
        "2.   Treinar o modelo: ```fit()```\n",
        "3.   Testar o modelo: ```predict()```\n",
        "\n"
      ]
    },
    {
      "metadata": {
        "id": "QT3S0B39AnJD"
      },
      "cell_type": "code",
      "source": [
        "tree_iris = DecisionTreeClassifier(random_state=0, criterion='entropy', class_weight=[{0: 1, 1: 1})\n",
        "\n",
        "tree_iris = tree_iris.fit(X_train, y_train)\n",
        "print(\"Acurácia (base de treinamento):\", tree_iris.score(X_train, y_train))\n",
        "\n",
        "y_pred = tree_iris.predict(X_test)\n",
        "print(\"Acurácia de previsão:\", accuracy_score(y_test, y_pred))\n",
        "print(classification_report(y_test, y_pred, target_names=iris.target_names))\n",
        "\n",
        "cnf_matrix = confusion_matrix(y_test, y_pred)\n",
        "cnf_table = pd.DataFrame(data=cnf_matrix, index=iris.target_names, columns=[x + \"(prev)\" for x in iris.target_names])\n",
        "print(cnf_table)\n"
      ],
      "execution_count": null,
      "outputs": []
    },
    {
      "metadata": {
        "id": "f2HUb-V-ihZt"
      },
      "cell_type": "markdown",
      "source": [
        "### Exibição da árvore de decisão"
      ]
    },
    {
      "cell_type": "markdown",
      "source": [
        "(#)8? - isso aqui são 3 exemplos! você pega 1, modifica e apaga os outros 2."
      ],
      "metadata": {
        "id": "xg6gaCtLf6X-"
      }
    },
    {
      "metadata": {
        "id": "x-yvOCPzBl_d"
      },
      "cell_type": "code",
      "source": [
        "from dtreeviz.trees import *\n",
        "\n",
        "viz = dtreeviz(tree_iris,\n",
        "              X_train,\n",
        "              y_train,\n",
        "              target_name=\"espécie\",\n",
        "              feature_names=iris.feature_names,\n",
        "              class_names=[\"setosa\", \"versicolor\", \"virginica\"])\n",
        "\n",
        "viz.view()"
      ],
      "execution_count": null,
      "outputs": []
    },
    {
      "metadata": {
        "id": "gAqgi9bhE3Q8"
      },
      "cell_type": "code",
      "source": [
        "from dtreeviz.trees import *\n",
        "\n",
        "viz = dtreeviz(sonar_tree,\n",
        "              X_train,\n",
        "              y_train,\n",
        "              target_name=\"Classe\",\n",
        "              feature_names=np.arange(0,60),\n",
        "              class_names=[\"mina\", \"rocha\"])\n",
        "\n",
        "viz.view()"
      ],
      "execution_count": null,
      "outputs": []
    },
    {
      "metadata": {
        "id": "n75ssO3kE5WQ"
      },
      "cell_type": "code",
      "source": [
        "from dtreeviz.trees import *\n",
        "\n",
        "viz = dtreeviz(treeClima,\n",
        "              X_train,\n",
        "              y_train,\n",
        "              target_name='Comprar',\n",
        "               feature_names=vect.feature_names_,\n",
        "              class_names=[\"sim\", \"nao\"],\n",
        "              fancy=True)\n",
        "\n",
        "viz.view()"
      ],
      "execution_count": null,
      "outputs": []
    },
    {
      "cell_type": "markdown",
      "source": [
        " (#)9? - isso aqui são 3 exemplos! você pega 1, modifica e apaga os outros 2."
      ],
      "metadata": {
        "id": "OiSsNQS7gSss"
      }
    },
    {
      "metadata": {
        "id": "V_A92_qYTCkY"
      },
      "cell_type": "code",
      "source": [
        "import pydotplus\n",
        "# Create DOT data\n",
        "dot_data = tree.export_graphviz(tree_iris, out_file=None,\n",
        "                                #proportion=True,\n",
        "                                rounded =True,\n",
        "                                filled=True,\n",
        "                                feature_names=iris.feature_names,\n",
        "                                class_names=[\"setosa\", \"versicolor\", \"virginica\"])\n",
        "\n",
        "# Draw graph\n",
        "graph = pydotplus.graph_from_dot_data(dot_data)\n",
        "\n",
        "# Show graph\n",
        "Image(graph.create_png())\n"
      ],
      "execution_count": null,
      "outputs": []
    },
    {
      "metadata": {
        "id": "6vQitE0UFLVT"
      },
      "cell_type": "code",
      "source": [
        "import pydotplus\n",
        "# Create DOT data\n",
        "dot_data = tree.export_graphviz(sonar_tree, out_file=None,\n",
        "                                proportion=False,\n",
        "                                rounded =True,\n",
        "                                filled=True,\n",
        "                                feature_names=np.arange(0,60),\n",
        "                                class_names=[\"mina\", \"rocha\"])\n",
        "\n",
        "# Draw graph\n",
        "graph = pydotplus.graph_from_dot_data(dot_data)\n",
        "\n",
        "# Show graph\n",
        "Image(graph.create_png())\n"
      ],
      "execution_count": null,
      "outputs": []
    },
    {
      "metadata": {
        "id": "OM1ESsH9FNCL"
      },
      "cell_type": "code",
      "source": [
        "import pydotplus\n",
        "# Create DOT data\n",
        "dot_data = tree.export_graphviz(treeClima, out_file=None,\n",
        "                                feature_names=vect.feature_names_,\n",
        "                                rounded =True,\n",
        "                                filled=True,\n",
        "                                class_names=[\"sim\", \"nao\"])\n",
        "\n",
        "# Draw graph\n",
        "graph = pydotplus.graph_from_dot_data(dot_data)\n",
        "\n",
        "# Show graph\n",
        "Image(graph.create_png())\n"
      ],
      "execution_count": null,
      "outputs": []
    }
  ]
}